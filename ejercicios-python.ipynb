{
 "cells": [
  {
   "cell_type": "markdown",
   "metadata": {},
   "source": [
    "#### Ejercicio 1\n",
    "\n",
    "Devuelve el número de vocales en una cadena dada. Consideraremos `a, e, i, o, u` como vocales. \n",
    "\n",
    "Por ejemplo: \n",
    "\n",
    "```python\n",
    "print(get_count(\"Hola Buenos Dias\")) # devuelve 7 \n",
    "print(get_count(\"Python Mola\")) # devuelve 3\n",
    "print(get_count(\"REPASANDO EJERCICIOS\")) # devuelve 9\n",
    "```"
   ]
  },
  {
   "cell_type": "code",
   "execution_count": 149,
   "metadata": {},
   "outputs": [
    {
     "name": "stdout",
     "output_type": "stream",
     "text": [
      "7\n"
     ]
    },
    {
     "data": {
      "text/plain": [
       "15"
      ]
     },
     "execution_count": 149,
     "metadata": {},
     "output_type": "execute_result"
    }
   ],
   "source": [
    "cadena = \"Hola Buenos Dias\"\n",
    "\n",
    "#Creamos una función con el nombre get_count()\n",
    "def get_count(cadena):\n",
    "    #Creamos una variable llamada vocales donde metemos todas las vocales, incluyendo mayúsculas, minúsculas, y vocales con acentos.\n",
    "    vocales = \"aeiouáéíóúAEIOUÁÉÍÓÚ\"\n",
    "    #Añadimos una variable resultado con valor 0 para ir sumando el conteo de vocales de cada frase.\n",
    "    resultado = 0\n",
    "    #Hacemos un bucle for para que iterar entre cada letra de la frase dada. Y con un if, le decimos que por cada letra que coincida con la variable vocales, le sume a resultado 1. Hacemos return con resultado para que nos devuelva el conteo realizado\n",
    "    for letra in cadena:\n",
    "        if letra in vocales:\n",
    "            resultado += 1\n",
    "    return resultado\n",
    "\n",
    "print(get_count(cadena))\n",
    "get_count(\"Estoy probando cuántas vocales hay aquí\")"
   ]
  },
  {
   "cell_type": "markdown",
   "metadata": {},
   "source": [
    "#### Ejercicio 2\n",
    "\n",
    "Eleva al cuadrado cada dígito de un número y unelos. Por ejemplo, si pasas el número 9119 a la función, obtendras 811181, porque \\(9^2\\) ￼ es 81 y ￼\\(1^2\\) es 1. (81-1-1-81). Otro ejemplo, un número de 765 debería devolver 493625 porque \\(7^2\\) ￼ es 49,  \\(6^2\\) ￼ es 36 y ￼\\(5^2\\)  es 25. (49-36-25)\n",
    "\n",
    "```python\n",
    "print(square_digits(123)) # devuelve 149\n",
    "print(square_digits(12345)) # devuelve 1491625\n",
    "print(square_digits(34)) # devuelve 916\n",
    "```\n"
   ]
  },
  {
   "cell_type": "code",
   "execution_count": 151,
   "metadata": {},
   "outputs": [
    {
     "name": "stdout",
     "output_type": "stream",
     "text": [
      "149\n",
      "1491625\n",
      "916\n"
     ]
    }
   ],
   "source": [
    "numero = 123\n",
    "\n",
    "#Definimos la función con el nombre square_digits()\n",
    "def square_digits(numero):\n",
    "    #Para poder juntar el resultado de cada cuadrado de cada dígito, convertimos el número dado en str para poder concatenarlo y para ello utilizamos str().\n",
    "    numero_str = str(numero)\n",
    "    #Apadimos un str vacío llamado resultado, donde iremos añadiendo todos los resultados de los cuadrados de cada dígito.\n",
    "    resultado = \"\"\n",
    "    #Hacemos un bucle for por el que cada dígito que esté en nuestro número (ya en str) vaya iternado y haciendo las siguientes operaciones.\n",
    "    for digito in numero_str:\n",
    "        #Creamos una variable llamada cuadrado que multiplique cada dígito por sí mismo\n",
    "        cuadrado = int(digito)*int(digito)\n",
    "        #añadimos un += para que vaya sumando el resultado del cuadrado al resultado final, pero siempre en str para que simplemente los ponga al lado sin sumarlos.\n",
    "        resultado += str(cuadrado)\n",
    "        #Hacemos return de resultado\n",
    "    return resultado\n",
    "\n",
    "print(square_digits(numero))\n",
    "print(square_digits(12345))\n",
    "print(square_digits(34))"
   ]
  },
  {
   "cell_type": "markdown",
   "metadata": {},
   "source": [
    "#### Ejercicio 4\n",
    "\n",
    "Probablemente conozcas el sistema de “me gusta” de Facebook y otras plataformas. Las personas pueden dar “me gusta” a publicaciones, imágenes u otros elementos. Tienes que crear el texto que se debe mostrar junto a dicho elemento. Crea una función que reciba una lista con los nombres de las personas que dieron “me gusta” a un elemento. La función debe devolver el texto mostrado según los ejemplos:\n",
    "\n",
    "```python\n",
    "print(likes([\"Peter\"])) # devuelve \"Peter likes this\"\n",
    "print(likes([\"Jacob\", \"Alex\"] )) # devuelve \"Jacob and Alex like this\"\n",
    "print(likes([\"Max\", \"John\", \"Mark\"])) # devuelve \"Max, John and Mark like this\"\n",
    "print(likes([\"Max\", \"John\", \"Mark\", \"Max\"])) # devuelve \"Max, John and 2 others like this\"\n",
    "```"
   ]
  },
  {
   "cell_type": "code",
   "execution_count": null,
   "metadata": {},
   "outputs": [
    {
     "name": "stdout",
     "output_type": "stream",
     "text": [
      "Gonzalo likes this.\n",
      "Peter likes this.\n",
      "Jacob and Alex like this.\n",
      "Max, John and Mark like this.\n",
      "Max, John and 2 others like this.\n"
     ]
    }
   ],
   "source": [
    "nombre = [\"Gonzalo\"]\n",
    "\n",
    "\n",
    "#Definimos la función con el nombre likes()\n",
    "def likes(nombre):\n",
    "    #Hacemos un if, elif, else diciento que devuelva una frase diferente en función del número de nombres que haya en la lista dada, para ello utilizamos la función len()\n",
    "    if len(nombre) == 1:\n",
    "        return (f\"{nombre[0]} likes this.\")\n",
    "    elif len(nombre) == 2:\n",
    "        return (f\"{nombre[0]} and {nombre[1]} like this.\")\n",
    "    elif len (nombre) == 3:\n",
    "        return (f\"{nombre[0]}, {nombre[1]} and {nombre[2]} like this.\")\n",
    "    else:\n",
    "        return (f\"{nombre[0]}, {nombre[1]} and {len(nombre)-2} others like this.\")\n",
    "\n",
    "\n",
    "print(likes(nombre))\n",
    "print(likes([\"Peter\"]))\n",
    "print(likes([\"Jacob\", \"Alex\"] )) \n",
    "print(likes([\"Max\", \"John\", \"Mark\"]))\n",
    "print(likes([\"Max\", \"John\", \"Mark\", \"Max\"]))"
   ]
  },
  {
   "cell_type": "markdown",
   "metadata": {},
   "source": [
    "#### Ejercicio 5\n",
    "\n",
    "Crea una función que tome una lista de enteros no negativos y cadenas de texto, y devuelva una nueva lista con las cadenas filtradas (es decir, eliminadas).\n",
    "\n",
    "```python\n",
    "print(filter_list([1, 2, 'a', 'b'])) # devuelve [1, 2]\n",
    "print(filter_list([1, 'a', 'b', 0, 15])) # devuelve [1, 0, 15]\n",
    "print(filter_list([1, 2, 'aasf', '1', '123', 123])) # devuelve [1, 2, 123]\n",
    "```"
   ]
  },
  {
   "cell_type": "code",
   "execution_count": null,
   "metadata": {},
   "outputs": [
    {
     "name": "stdout",
     "output_type": "stream",
     "text": [
      "[1, 2]\n",
      "[1, 0, 15]\n",
      "[1, 2, 123]\n"
     ]
    }
   ],
   "source": [
    "#Definimos la función filter_list()\n",
    "def filter_list(lista1):\n",
    "    #Creamos una lista vacía llamada resultado donde iremos apendeando cada valor gernerado para obtener el resultado que nos pide el ejercicio.\n",
    "    resultado = []\n",
    "    #Hacemos un bucle for donde iteraremo por cada valor de la lista1, y le diremos que si cada valor NO es un string, entonces añada ese valor a la lista vacía creada llamada resultado.\n",
    "    for valor in lista1:\n",
    "        if valor is not str(valor):\n",
    "            resultado.append(valor)\n",
    "    return resultado\n",
    "\n",
    "print(filter_list([1, 2, 'a', 'b']))\n",
    "print(filter_list([1, 'a', 'b', 0, 15]))\n",
    "print(filter_list([1, 2, 'aasf', '1', '123', 123]))"
   ]
  },
  {
   "cell_type": "markdown",
   "metadata": {},
   "source": [
    "#### Ejercicio 6\n",
    "\n",
    "Mueve la primera letra de cada palabra al final de la misma, luego agrega “ay” al final de la palabra. Deja los signos de puntuación sin cambios.\n",
    "\n",
    "```python\n",
    "print(pig_it('Pig latin is cool')) # devuelve \"igPay atinlay siay oolcay\"\n",
    "print(pig_it('This is my string')) # devuelve \"hisTay siay ymay tringsay\"\n",
    "```"
   ]
  },
  {
   "cell_type": "code",
   "execution_count": 1,
   "metadata": {},
   "outputs": [
    {
     "name": "stdout",
     "output_type": "stream",
     "text": [
      "igPay atinlay siay oolcay\n",
      "hisTay siay ymay tringsay\n"
     ]
    }
   ],
   "source": [
    "def pig_it(frase):\n",
    "    #Utilizamos la función .split() para dividir el string dado en una lista, y así poder editar cada palabra de la frase dada.\n",
    "    frase_palabras = frase.split()\n",
    "    #Además, añadimos una lista vacía con el nombre del resultado, donde iremos añadiendo cada palabra cambiada.\n",
    "    resultado = []\n",
    "    #Hacemos un bucle for, donde cada primera letra de cada palabra, la pasemos al final y añadamos ay al terminar cada palabra.\n",
    "    for palabra in frase_palabras:\n",
    "        palabra_cambiada = palabra[1:] + palabra[0] + \"ay\"\n",
    "        #Cada palabra cambiada, la añadiremos a la lista llamada resultado.\n",
    "        resultado.append(palabra_cambiada)\n",
    "    #Para el return, hacemos un join, para convertir esa lista en string con un espacio entre cada palabra.\n",
    "    return \" \".join(resultado)\n",
    "\n",
    "print(pig_it('Pig latin is cool'))\n",
    "print(pig_it('This is my string'))   "
   ]
  },
  {
   "cell_type": "markdown",
   "metadata": {},
   "source": [
    "#### Ejercicio 7\n",
    "\n",
    "A Pete le gusta hornear pasteles. Tiene algunas recetas e ingredientes. Desafortunadamente, no es bueno con las matemáticas. ¿Puedes ayudarlo a averiguar cuántos pasteles puede hornear considerando sus recetas?\n",
    "\n",
    "Escribe una función que reciba la receta  y los ingredientes disponibles y devuelva el número máximo de pasteles que Pete puede hornear.\n",
    "\n",
    "Para simplificar, no hay unidades para las cantidades (por ejemplo, 1 libra de harina o 200 gramos de azúcar son simplemente 1 o 200).\n",
    "\n",
    "Los ingredientes que no están presentes en los objetos se pueden considerar como 0.\n",
    "\n",
    "```python\n",
    "recipe = {\"flour\": 500, \"sugar\": 200, \"eggs\": 1}\n",
    "available = {\"flour\": 1200, \"sugar\": 1200, \"eggs\": 5, \"milk\": 200}\n",
    "print(cakes(recipe, available)) # devuelve 2 bizcochos\n",
    "\n",
    "recipe = {\"apples\": 3, \"flour\": 300, \"sugar\": 150, \"milk\": 100, \"oil\": 100}\n",
    "available = {\"sugar\": 500, \"flour\": 2000, \"milk\": 2000}\n",
    "print(cakes(recipe, available)) # devuelve 0 bizcochos\n",
    "\n",
    "```"
   ]
  },
  {
   "cell_type": "code",
   "execution_count": null,
   "metadata": {},
   "outputs": [
    {
     "data": {
      "text/plain": [
       "'5 bizcochos'"
      ]
     },
     "execution_count": 308,
     "metadata": {},
     "output_type": "execute_result"
    }
   ],
   "source": [
    "#Lo único que he conseguido es que me lo haga todo, pero no sé por qué solo me itera entre la key eggs, y ese es el resultado que me da.\n",
    "#**PREGUNTAR ESTE EJERCICIO**\n",
    "\n",
    "recipe = {\"flour\": 500, \"sugar\": 200, \"eggs\": 1}\n",
    "available = {\"flour\": 1200, \"sugar\": 1200, \"eggs\": 5, \"milk\": 200}\n",
    "\n",
    "def cakes(recipe, available):\n",
    "    #Hacemos un bucle for definiendo ingrediente y cantidad para iterar entre cada ingrediente dentro del diccionario recipe.\n",
    "    for ingrediente, cantidad in recipe.items():\n",
    "        #Utilizamos el método get(x,y) para que, en el caso de que haya un ingrediente que no haga falta en la receta, lo tome como 0.\n",
    "        cantidad_disponible = available.get(ingrediente, 0)\n",
    "        #hacemos un if donde le decimos que si la cantidad disponible es menor que la cantidad necesaria para la receta, nos diga, que no se puede hacer ningún bizcocho.\n",
    "        if cantidad_disponible < cantidad:\n",
    "            return f\"No puedes hacer ningún bizcocho, porque no tienes ingredientes suficientes.\"\n",
    "        #Creamos una nueva variable llamada resultado, donde divida la cantidad que tenemos disponible entre la cantidad necesaria para hacer la receta.\n",
    "        else:\n",
    "            Lista_resultado = []\n",
    "            resultado = Lista_resultado.append(round(cantidad_disponible // cantidad))\n",
    "            resultado_final = min(Lista_resultado)\n",
    "            \n",
    "    return f\"{resultado_final} bizcochos\"\n",
    "\n",
    "cakes(recipe, available)"
   ]
  },
  {
   "cell_type": "markdown",
   "metadata": {},
   "source": [
    "#### Ejercicio 8\n",
    "\n",
    "Debes validar si una cadena de entrada del usuario es alfanumérica. La cadena debe cumplir con las siguientes condiciones para ser alfanumérica:\n",
    "\n",
    "•\tContener al menos un carácter (”” no es válido).\n",
    "\n",
    "•\tLos caracteres permitidos son letras latinas en mayúsculas/minúsculas y dígitos del 0 al 9.\n",
    "\n",
    "•\tNo debe contener espacios en blanco ni guiones bajos (_).\n",
    "\n",
    "```python\n",
    "print(alphanumeric(\"hello world_\")) # devuelve False\n",
    "print(alphanumeric(\"PassW0rd\")) # devuelve True\n",
    "print(alphanumeric(\"L0La\")) # devuelve True\n",
    "```"
   ]
  },
  {
   "cell_type": "code",
   "execution_count": null,
   "metadata": {},
   "outputs": [
    {
     "name": "stdout",
     "output_type": "stream",
     "text": [
      "La respuesta es 'Hola,estoesunaprueba'\n",
      "False\n",
      "La respuesta es 'hello world_'\n",
      "False\n",
      "La respuesta es 'PassW0rd'\n",
      "True\n",
      "La respuesta es 'L0La'\n",
      "True\n"
     ]
    }
   ],
   "source": [
    "respuesta = input(\"Escribe una frase para saber si es alfanumérica o no\")\n",
    "\n",
    "\n",
    "#Definimos la función alphanumeric()\n",
    "def alphanumeric(respuesta):\n",
    "    #Le pedimos al usuario que escriba una frase y la printeamos para saber qué ha escrito\n",
    "    print(f\"La respuesta es '{respuesta}'\")\n",
    "    #hacemos un if, elif else, para cumplir las condiciones. Si no hay respuesta, entonce es False.\n",
    "    if not respuesta:\n",
    "        False\n",
    "        print(\"Tienes que escribir al menos una frase para saber si es alfanumérica o no\")\n",
    "   #Si la respuesta es alfanumérica, entonces es true. Para ello utilizamos la función isalnum() de la respuesta dada. \n",
    "    elif respuesta.isalnum():\n",
    "        return True\n",
    "    #Y si no cumple esos requisitos, entonces es falso. Con esto cumplimos la tercera condición de que no puede haber ni espacios en blanco ni guiones bajos.\n",
    "    else:\n",
    "        return False\n",
    "    \n",
    "\n",
    "print(alphanumeric(respuesta))\n",
    "print(alphanumeric(\"hello world_\"))\n",
    "print(alphanumeric(\"PassW0rd\"))\n",
    "print(alphanumeric(\"L0La\"))"
   ]
  }
 ],
 "metadata": {
  "kernelspec": {
   "display_name": "Python 3",
   "language": "python",
   "name": "python3"
  },
  "language_info": {
   "codemirror_mode": {
    "name": "ipython",
    "version": 3
   },
   "file_extension": ".py",
   "mimetype": "text/x-python",
   "name": "python",
   "nbconvert_exporter": "python",
   "pygments_lexer": "ipython3",
   "version": "3.9.6"
  }
 },
 "nbformat": 4,
 "nbformat_minor": 2
}
