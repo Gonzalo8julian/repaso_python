{
 "cells": [
  {
   "cell_type": "markdown",
   "metadata": {},
   "source": [
    "# Ejercicios repaso de Python\n",
    "\n",
    "## 1. `lista_digitos()`\n",
    "Dado un número entero positivo, convierte el número en una lista donde cada elemento es un dígito del número original, pero en orden inverso. \n",
    "\n",
    "**Input:**\n",
    "- Un número entero, por ejemplo: `348597`\n",
    "\n",
    "**Output esperado:**\n",
    "- Una lista de enteros con los dígitos en orden inverso, por ejemplo: `[7, 9, 5, 8, 4, 3]`\n",
    "\n"
   ]
  },
  {
   "cell_type": "code",
   "execution_count": 7,
   "metadata": {},
   "outputs": [],
   "source": [
    "numero = 348597"
   ]
  },
  {
   "cell_type": "code",
   "execution_count": 25,
   "metadata": {},
   "outputs": [],
   "source": [
    "def lista_digitos(numero):\n",
    "  texto = str(numero)\n",
    "  lista = list(texto)\n",
    "  lista.reverse()\n",
    "  return lista"
   ]
  },
  {
   "cell_type": "code",
   "execution_count": 26,
   "metadata": {},
   "outputs": [
    {
     "data": {
      "text/plain": [
       "['7', '9', '5', '8', '4', '3']"
      ]
     },
     "execution_count": 26,
     "metadata": {},
     "output_type": "execute_result"
    }
   ],
   "source": [
    "lista_digitos(numero)"
   ]
  },
  {
   "cell_type": "code",
   "execution_count": 27,
   "metadata": {},
   "outputs": [],
   "source": [
    "lista_1 = [1,2,3,4]\n",
    "lista_1.reverse()"
   ]
  },
  {
   "cell_type": "code",
   "execution_count": 28,
   "metadata": {},
   "outputs": [
    {
     "data": {
      "text/plain": [
       "[4, 3, 2, 1]"
      ]
     },
     "execution_count": 28,
     "metadata": {},
     "output_type": "execute_result"
    }
   ],
   "source": [
    "lista_1"
   ]
  },
  {
   "cell_type": "code",
   "execution_count": 38,
   "metadata": {},
   "outputs": [
    {
     "data": {
      "text/plain": [
       "[3, 9, 3, 0, 5]"
      ]
     },
     "execution_count": 38,
     "metadata": {},
     "output_type": "execute_result"
    }
   ],
   "source": [
    "numero  = 50393\n",
    "numero_string = str(numero)\n",
    "lista = []\n",
    "for i in numero_string:\n",
    "    lista.append(int(i))\n",
    "\n",
    "lista.reverse()\n",
    "lista"
   ]
  },
  {
   "cell_type": "code",
   "execution_count": null,
   "metadata": {},
   "outputs": [
    {
     "data": {
      "text/plain": [
       "True"
      ]
     },
     "execution_count": 80,
     "metadata": {},
     "output_type": "execute_result"
    }
   ],
   "source": [
    "numero_lista = [1,2,3,4]\n",
    "bool(\"\")"
   ]
  },
  {
   "cell_type": "code",
   "execution_count": 85,
   "metadata": {},
   "outputs": [
    {
     "data": {
      "text/plain": [
       "[0, 0, 0, 4]"
      ]
     },
     "execution_count": 85,
     "metadata": {},
     "output_type": "execute_result"
    }
   ],
   "source": [
    "numero = 23454346\n",
    "\n",
    "def lista_numero(numero):\n",
    "    if type(numero) == int or type(numero) == str:\n",
    "        numero_string = str(numero)\n",
    "        lista = []\n",
    "        for i in numero_string:\n",
    "            lista.append(int(i))\n",
    "\n",
    "        lista.reverse()\n",
    "        return lista\n",
    "    else:\n",
    "        print(\"El brocoli que has metido no es un numero, marixoxo\")\n",
    "\n",
    "\n",
    "lista_numero(4000)"
   ]
  },
  {
   "cell_type": "code",
   "execution_count": null,
   "metadata": {},
   "outputs": [
    {
     "data": {
      "text/plain": [
       "[4, 3, 2, 1]"
      ]
     },
     "execution_count": 86,
     "metadata": {},
     "output_type": "execute_result"
    }
   ],
   "source": [
    "lista_numero(1234)"
   ]
  },
  {
   "cell_type": "code",
   "execution_count": 87,
   "metadata": {},
   "outputs": [
    {
     "data": {
      "text/plain": [
       "[4, 3, 2, 1]"
      ]
     },
     "execution_count": 87,
     "metadata": {},
     "output_type": "execute_result"
    }
   ],
   "source": [
    "lista_numero(\"1234\")"
   ]
  },
  {
   "cell_type": "code",
   "execution_count": null,
   "metadata": {},
   "outputs": [
    {
     "name": "stdout",
     "output_type": "stream",
     "text": [
      "El brocoli que has metido no es un numero, marixoxo\n"
     ]
    }
   ],
   "source": [
    "lista_numero(tuple([1,2,3]))"
   ]
  },
  {
   "cell_type": "code",
   "execution_count": 96,
   "metadata": {},
   "outputs": [
    {
     "data": {
      "text/plain": [
       "3"
      ]
     },
     "execution_count": 96,
     "metadata": {},
     "output_type": "execute_result"
    }
   ],
   "source": [
    "lista_numeros = [1,2,3]\n",
    "tupla_numeros = tuple(lista_numeros)\n",
    "tupla_numeros[2]"
   ]
  },
  {
   "cell_type": "markdown",
   "metadata": {},
   "source": [
    "# Ejercicio 2\n",
    "\n",
    "### ¿Cuanta comida tengo en la mochila?"
   ]
  },
  {
   "cell_type": "code",
   "execution_count": 100,
   "metadata": {},
   "outputs": [
    {
     "data": {
      "text/plain": [
       "3"
      ]
     },
     "execution_count": 100,
     "metadata": {},
     "output_type": "execute_result"
    }
   ],
   "source": [
    "mochila = [\"manzana\", \"movil\",\"reloj\",\"linterna\",\"bocadillo\",\"tortilla\",\"mechero\",\"agua\",\"tienda_campaña\"]\n",
    "\n",
    "lista_comida = [\"manzana\",\"agua\",\"zumo\",\"arroz\",\"tortilla\"]\n",
    "\n",
    "def cuanta_comida(mochila, lista_comida):\n",
    "    contador = 0\n",
    "    for i in lista_comida:\n",
    "        if i in mochila:\n",
    "            contador += 1\n",
    "    \n",
    "    return contador\n",
    "\n",
    "def que_comida(mochila, lista_comida):\n",
    "    comida_en_mochila = []\n",
    "    for comida in lista_comida:\n",
    "        if comida in mochila:\n",
    "            comida_en_mochila.append(comida)\n",
    "\n",
    "    return comida_en_mochila\n",
    "        \n",
    "    \n",
    "cuanta_comida(mochila, lista_comida)"
   ]
  },
  {
   "cell_type": "code",
   "execution_count": 101,
   "metadata": {},
   "outputs": [
    {
     "data": {
      "text/plain": [
       "['manzana', 'agua', 'tortilla']"
      ]
     },
     "execution_count": 101,
     "metadata": {},
     "output_type": "execute_result"
    }
   ],
   "source": [
    "que_comida(mochila, lista_comida)"
   ]
  },
  {
   "cell_type": "markdown",
   "metadata": {},
   "source": [
    "## 2. `formatear_nombre()`\n",
    "Dada una lista de nombres escritos en minúsculas o con letras mayúsculas y minúsculas mezcladas, devuelve una nueva lista donde cada nombre está capitalizado correctamente (solo la primera letra en mayúscula).\n",
    "\n",
    "**Input:**\n",
    "- Una lista de strings, por ejemplo: `[\"ana\", \"jUAn\", \"LuIs\"]`\n",
    "\n",
    "**Output esperado:**\n",
    "- Una lista de strings capitalizados, por ejemplo: `[\"Ana\", \"Juan\", \"Luis\"]`"
   ]
  },
  {
   "cell_type": "code",
   "execution_count": null,
   "metadata": {},
   "outputs": [],
   "source": []
  },
  {
   "cell_type": "markdown",
   "metadata": {},
   "source": [
    "## 3. `match_result()`\n",
    "Dada una lista de tuplas con dos números cada una, donde cada número representa el puntaje de dos equipos en un partido, determina el resultado del partido. \n",
    "\n",
    "**Input:**\n",
    "- Una lista de tuplas de enteros, por ejemplo: `[(3, 1), (2, 2), (1, 4)]`\n",
    "\n",
    "**Output esperado:**\n",
    "- Una lista de strings con el resultado para cada partida, por ejemplo: `[\"ganador\", \"empate\", \"perdedor\"]`"
   ]
  },
  {
   "cell_type": "code",
   "execution_count": null,
   "metadata": {},
   "outputs": [],
   "source": [
    "def resultados_nombres (input):\n",
    "    resultados_partida = []\n",
    "    for resultado in input:\n",
    "        if resultado[0]>resultado[1]:\n",
    "            resultados_partida.append('ganador')\n",
    "        elif resultado[0]==resultado[1]:\n",
    "            resultados_partida.append('empate')\n",
    "        else:\n",
    "            resultados_partida.append('perdedor')\n",
    "    return resultados_partida"
   ]
  },
  {
   "cell_type": "markdown",
   "metadata": {},
   "source": [
    "## 4. `what_is_between()`\n",
    "Crea una lista con todos los números enteros entre dos valores dados, incluyendo ambos extremos.\n",
    "\n",
    "**Input:**\n",
    "- Dos números enteros, por ejemplo: `3` y `7`\n",
    "\n",
    "**Output esperado:**\n",
    "- Una lista de enteros entre los valores dados, por ejemplo: `[3, 4, 5, 6, 7]`"
   ]
  },
  {
   "cell_type": "code",
   "execution_count": 57,
   "metadata": {},
   "outputs": [
    {
     "data": {
      "text/plain": [
       "[3, 4, 5, 6, 7]"
      ]
     },
     "execution_count": 57,
     "metadata": {},
     "output_type": "execute_result"
    }
   ],
   "source": [
    "numero1 = 3\n",
    "numero2 = 7\n",
    "\n",
    "def what_is_between(numero1, numero2):\n",
    "    for i in range(numero1, numero2+1, 1):\n",
    "        None\n",
    "    return list(range(numero1, numero2+1))\n",
    "\n",
    "what_is_between(numero1, numero2)\n"
   ]
  },
  {
   "cell_type": "code",
   "execution_count": 58,
   "metadata": {},
   "outputs": [
    {
     "data": {
      "text/plain": [
       "[0, 1, 2, 3, 4, 5, 6, 7, 8, 9, 10, 11, 12, 13, 14, 15, 16, 17, 18, 19, 20]"
      ]
     },
     "execution_count": 58,
     "metadata": {},
     "output_type": "execute_result"
    }
   ],
   "source": [
    "numero0=0\n",
    "numero20=20\n",
    "\n",
    "what_is_between(numero0,numero20)"
   ]
  },
  {
   "cell_type": "markdown",
   "metadata": {},
   "source": [
    "## 5. `es_mayus()`\n",
    "Dado un string, verifica si todas sus letras están en mayúsculas. Ignora los espacios para que no afecten el resultado.\n",
    "\n",
    "**Input:**\n",
    "- Un string, por ejemplo: `\"HOLA MUNDO\"`\n",
    "\n",
    "**Output esperado:**\n",
    "- `True` si todas las letras están en mayúsculas, `False` en caso contrario."
   ]
  },
  {
   "cell_type": "code",
   "execution_count": 3,
   "metadata": {},
   "outputs": [
    {
     "data": {
      "text/plain": [
       "True"
      ]
     },
     "execution_count": 3,
     "metadata": {},
     "output_type": "execute_result"
    }
   ],
   "source": [
    "frase = \"HOLA MUNDO\"\n",
    "\n",
    "def string_mayusculas(frase):\n",
    "\n",
    "    return frase.isupper()\n",
    "\n",
    "string_mayusculas(frase)"
   ]
  },
  {
   "cell_type": "markdown",
   "metadata": {},
   "source": [
    "## 6. `cuanta_comida_en_mochila()`\n",
    "Dadas dos listas: una llamada `comida` con los alimentos que quieres comprobar y otra llamada `nevera` con los alimentos que tienes, cuenta cuántos de los alimentos de `comida` se encuentran en `nevera`.\n",
    "\n",
    "**Input:**\n",
    "- Dos listas de strings, por ejemplo: `[\"manzanas\", \"leche\", \"pan\"]` y `[\"pan\", \"queso\", \"leche\"]`\n",
    "\n",
    "**Output esperado:**\n",
    "- Un número entero que representa cuántos elementos de `comida` están en `nevera`, por ejemplo: `2`"
   ]
  },
  {
   "cell_type": "code",
   "execution_count": 5,
   "metadata": {},
   "outputs": [
    {
     "data": {
      "text/plain": [
       "2"
      ]
     },
     "execution_count": 5,
     "metadata": {},
     "output_type": "execute_result"
    }
   ],
   "source": [
    "comida = [\"manzanas\", \"leche\", \"pan\"]\n",
    "nevera = [\"pan\", \"queso\", \"leche\"]\n",
    "\n",
    "def cuanta_comida_en_nevera(comida,nevera):\n",
    "    contador = 0\n",
    "    for i in comida:\n",
    "        if i in nevera:\n",
    "            contador += 1\n",
    "    return contador\n",
    "\n",
    "cuanta_comida_en_nevera(comida,nevera)"
   ]
  },
  {
   "cell_type": "markdown",
   "metadata": {},
   "source": [
    "## 7. `añadir_apellido()`\n",
    "Dado un diccionario que representa a una persona con claves como \"nombre\" y \"edad\", añade una nueva clave llamada \"apellido\" con un valor proporcionado.\n",
    "\n",
    "**Input:**\n",
    "- Un diccionario, por ejemplo: `{\"nombre\": \"Juan\", \"edad\": 30}`\n",
    "- Un string con el apellido, por ejemplo: `\"García\"`\n",
    "\n",
    "**Output esperado:**\n",
    "- El diccionario actualizado, por ejemplo: `{\"nombre\": \"Juan\", \"edad\": 30, \"apellido\": \"García\"}`"
   ]
  },
  {
   "cell_type": "code",
   "execution_count": 36,
   "metadata": {},
   "outputs": [
    {
     "data": {
      "text/plain": [
       "{'nombre': 'Juan', 'edad': 30, 'apellido': 'García'}"
      ]
     },
     "execution_count": 36,
     "metadata": {},
     "output_type": "execute_result"
    }
   ],
   "source": [
    "nombre_edad = {\"nombre\": \"Juan\", \"edad\": 30}\n",
    "apellido = \"García\"\n",
    "\n",
    "nombre_edad[\"apellido\"] = apellido\n",
    "\n",
    "nombre_edad"
   ]
  },
  {
   "cell_type": "markdown",
   "metadata": {},
   "source": [
    "## 8. `corregir_nombre_socio()`\n",
    "Dado un diccionario con un nombre incorrecto (por ejemplo, letras mezcladas o en minúsculas), revisa y corrige cada letra del nombre basándote en una versión de referencia correcta. La función debería trabajar para un solo diccionario y luego reutilizarse para corregir una lista de diccionarios de nombres.\n",
    "\n",
    "**Input:**\n",
    "- Un diccionario, por ejemplo: `{\"nombre\": \"jUn\", \"edad\": 40}`\n",
    "- Un string con el nombre correcto, por ejemplo: `\"Juan\"`\n",
    "\n",
    "**Output esperado:**\n",
    "- El diccionario con el nombre corregido, por ejemplo: `{\"nombre\": \"Juan\", \"edad\": 40}`"
   ]
  },
  {
   "cell_type": "code",
   "execution_count": null,
   "metadata": {},
   "outputs": [
    {
     "data": {
      "text/plain": [
       "{'nombre': 'Juan', 'edad': 40}"
      ]
     },
     "execution_count": 6,
     "metadata": {},
     "output_type": "execute_result"
    }
   ],
   "source": [
    "diccionario = {\"nombre\": \"jUn\", \"edad\": 40}\n",
    "\n",
    "#Definimos una función con el nombre corregir_nombre_socio()\n",
    "def corregir_nombre_socio(diccionario):\n",
    "    #Definimos el nombre correcto que queremos corregir, en este caso \"Juan\" y hacemos un if donde la key nombre tiene que ser igual a nombre_correcto para que corrija todos los nombres Juan que estén mal escritos.\n",
    "    nombre_correcto = \"Juan\"\n",
    "    if \"nombre\" in diccionario:\n",
    "        diccionario[\"nombre\"] = nombre_correcto\n",
    "    return diccionario\n",
    "\n",
    "corregir_nombre_socio(diccionario)"
   ]
  },
  {
   "cell_type": "markdown",
   "metadata": {},
   "source": [
    "## 9. `crear_diccionario_notas()`\n",
    "Crea un diccionario que almacene nombres de estudiantes como claves y sus notas como valores. Puedes usar `zip()` para combinar dos listas: una de nombres y otra de notas.\n",
    "\n",
    "**Input:**\n",
    "- Dos listas, una con nombres de estudiantes (por ejemplo: `[\"Ana\", \"Luis\", \"Maria\"]`) y otra con sus notas (por ejemplo: `[85, 90, 78]`).\n",
    "\n",
    "**Output esperado:**\n",
    "- Un diccionario donde cada nombre está asociado a su nota, por ejemplo: `{\"Ana\": 85, \"Luis\": 90, \"Maria\": 78}`"
   ]
  },
  {
   "cell_type": "code",
   "execution_count": 9,
   "metadata": {},
   "outputs": [
    {
     "name": "stdout",
     "output_type": "stream",
     "text": [
      "{'Ana': 85, 'Luis': 90, 'Maria': 78}\n"
     ]
    }
   ],
   "source": [
    "\n",
    "nombre = [\"Ana\", \"Luis\", \"Maria\"]\n",
    "notas = [85, 90, 78]\n",
    "\n",
    "dict_notas = dict(zip(nombre, notas))\n",
    "\n",
    "print(dict_notas)"
   ]
  },
  {
   "cell_type": "markdown",
   "metadata": {},
   "source": [
    "## 10. `crear_diccionario_notas_tupla()`\n",
    "Similar al ejercicio anterior, pero aquí la información de los estudiantes y sus notas viene en una lista de tuplas. Cada tupla contiene el nombre y la nota de un estudiante.\n",
    "\n",
    "**Input:**\n",
    "- Una lista de tuplas, por ejemplo: `[(\"Ana\", 85), (\"Luis\", 90), (\"Maria\", 78)]`\n",
    "\n",
    "**Output esperado:**\n",
    "- Un diccionario donde cada nombre está asociado a su nota, por ejemplo: `{\"Ana\": 85, \"Luis\": 90, \"Maria\": 78}`\n"
   ]
  },
  {
   "cell_type": "code",
   "execution_count": 15,
   "metadata": {},
   "outputs": [
    {
     "name": "stdout",
     "output_type": "stream",
     "text": [
      "{'Ana': 85, 'Luis': 90, 'Maria': 78}\n",
      "<class 'dict'>\n"
     ]
    }
   ],
   "source": [
    "lista_tuplas = [(\"Ana\", 85), (\"Luis\", 90), (\"Maria\", 78)]\n",
    "\n",
    "dict_lista_tuplas = dict(lista_tuplas)\n",
    "\n",
    "print(dict_lista_tuplas)\n",
    "\n",
    "print(type(dict_lista_tuplas))"
   ]
  },
  {
   "cell_type": "markdown",
   "metadata": {},
   "source": []
  }
 ],
 "metadata": {
  "kernelspec": {
   "display_name": "Python 3",
   "language": "python",
   "name": "python3"
  },
  "language_info": {
   "codemirror_mode": {
    "name": "ipython",
    "version": 3
   },
   "file_extension": ".py",
   "mimetype": "text/x-python",
   "name": "python",
   "nbconvert_exporter": "python",
   "pygments_lexer": "ipython3",
   "version": "3.9.6"
  }
 },
 "nbformat": 4,
 "nbformat_minor": 2
}
