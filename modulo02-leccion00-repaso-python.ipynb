{
 "cells": [
  {
   "cell_type": "markdown",
   "metadata": {},
   "source": [
    "# Ejercicios repaso de Python\n",
    "\n",
    "## 1. `lista_digitos()`\n",
    "Dado un número entero positivo, convierte el número en una lista donde cada elemento es un dígito del número original, pero en orden inverso. \n",
    "\n",
    "**Input:**\n",
    "- Un número entero, por ejemplo: `348597`\n",
    "\n",
    "**Output esperado:**\n",
    "- Una lista de enteros con los dígitos en orden inverso, por ejemplo: `[7, 9, 5, 8, 4, 3]`\n",
    "\n"
   ]
  },
  {
   "cell_type": "code",
   "execution_count": null,
   "metadata": {},
   "outputs": [
    {
     "name": "stdout",
     "output_type": "stream",
     "text": [
      "['7', '9', '5', '8', '4', '3']\n"
     ]
    }
   ],
   "source": [
    "numero = 348597\n",
    "#Definimos la función lista_digitos()\n",
    "def lista_digitos(numero):\n",
    "  #Primero convertimos el número dado en string para poder separar cada uno de los dígitos dados.\n",
    "  texto = str(numero)\n",
    "  #Después convertimos el string en lista.\n",
    "  lista = list(texto)\n",
    "  #Por último utilizamos la función .reverse() para invertir lod dígitos en la lista que printearemos.\n",
    "  lista.reverse()\n",
    "  return lista\n",
    "\n",
    "print(lista_digitos(numero))"
   ]
  },
  {
   "cell_type": "markdown",
   "metadata": {},
   "source": [
    "# Ejercicio 2\n",
    "\n",
    "### ¿Cuanta comida tengo en la mochila?"
   ]
  },
  {
   "cell_type": "code",
   "execution_count": null,
   "metadata": {},
   "outputs": [
    {
     "name": "stdout",
     "output_type": "stream",
     "text": [
      "3\n",
      "['manzana', 'agua', 'tortilla']\n"
     ]
    }
   ],
   "source": [
    "mochila = [\"manzana\", \"movil\",\"reloj\",\"linterna\",\"bocadillo\",\"tortilla\",\"mechero\",\"agua\",\"tienda_campaña\"]\n",
    "lista_comida = [\"manzana\",\"agua\",\"zumo\",\"arroz\",\"tortilla\"]\n",
    "\n",
    "#Definimos la función cuanta_comida()\n",
    "def cuanta_comida(mochila, lista_comida):\n",
    "    #Añadimos un contador a 0 donde iremos sumando todos los elementos que coinciden en la lista de la comida y lo que tenemos en la mochila.\n",
    "    contador = 0\n",
    "    #Hacemos un bucle for, donde iteraremos cada elemento de la lista_comida.\n",
    "    for i in lista_comida:\n",
    "        #Si cada elemento está en la mochila, entonces sumaremos 1 al contador que hemos creado anteriormente.\n",
    "        if i in mochila:\n",
    "            contador += 1\n",
    "    return contador\n",
    "\n",
    "#Para especificar los elementos que tenemos en la mochila y que están en la lista de la comida, hacemos una función llamada que_comida.\n",
    "def que_comida(mochila, lista_comida):\n",
    "    #Creamos una lista vacía llamada comida_en_mochila donde iremos apendeando todo lo que esté en la mochila.\n",
    "    comida_en_mochila = []\n",
    "    #Hacemos un bucle for donde iteraremos por cada elemento que esté ne la lista_comida.\n",
    "    for comida in lista_comida:\n",
    "        #Con un if le diremos que si el elemento está en la mochila, entonces lo añada a la lista vacía que hemos creado.\n",
    "        if comida in mochila:\n",
    "            comida_en_mochila.append(comida)\n",
    "    return comida_en_mochila\n",
    "    \n",
    "print(cuanta_comida(mochila, lista_comida))\n",
    "print(que_comida(mochila, lista_comida))"
   ]
  },
  {
   "cell_type": "markdown",
   "metadata": {},
   "source": [
    "## 2. `formatear_nombre()`\n",
    "Dada una lista de nombres escritos en minúsculas o con letras mayúsculas y minúsculas mezcladas, devuelve una nueva lista donde cada nombre está capitalizado correctamente (solo la primera letra en mayúscula).\n",
    "\n",
    "**Input:**\n",
    "- Una lista de strings, por ejemplo: `[\"ana\", \"jUAn\", \"LuIs\"]`\n",
    "\n",
    "**Output esperado:**\n",
    "- Una lista de strings capitalizados, por ejemplo: `[\"Ana\", \"Juan\", \"Luis\"]`"
   ]
  },
  {
   "cell_type": "code",
   "execution_count": null,
   "metadata": {},
   "outputs": [
    {
     "name": "stdout",
     "output_type": "stream",
     "text": [
      "['Ana', 'Juan', 'Luis']\n",
      "['Gonzalo', 'Javier', 'Pedro']\n"
     ]
    }
   ],
   "source": [
    "lista_nombres = [\"ana\", \"jUAn\", \"LuIs\"]\n",
    "\n",
    "#Definimos una función llamada formatear_nombre() para realizar los pasos necesarios donde se actualicen los nombres poniendo la primera letra en mayúscula.\n",
    "def formatear_nombre(lista_nombres):\n",
    "    #Creamos una lista vacía donde iremos añadiendo los nombres actualizados.\n",
    "    Lista_actualizada = []\n",
    "    #Hacemos un bucle for por el que iteraremos por cada nombre en la lista_nombres.\n",
    "    for nombre in lista_nombres:\n",
    "        #Definimos una variable local llamada nombre_actualizado que será = a cada nombre de la lista dada, pero con la primera letra en mayúscula, para ello utilizamos .capitalize().\n",
    "        nombre_actualizado = nombre.capitalize()\n",
    "        #Con esto, añadiremos cada elemento a la nueva lista vacía que tenemos.\n",
    "        Lista_actualizada.append(nombre_actualizado)\n",
    "    return Lista_actualizada\n",
    "\n",
    "print(formatear_nombre(lista_nombres))\n",
    "print(formatear_nombre([\"gOnzalo\", \"jAVIER\", \"pedRO\"]))"
   ]
  },
  {
   "cell_type": "markdown",
   "metadata": {},
   "source": [
    "## 3. `match_result()`\n",
    "Dada una lista de tuplas con dos números cada una, donde cada número representa el puntaje de dos equipos en un partido, determina el resultado del partido. \n",
    "\n",
    "**Input:**\n",
    "- Una lista de tuplas de enteros, por ejemplo: `[(3, 1), (2, 2), (1, 4)]`\n",
    "\n",
    "**Output esperado:**\n",
    "- Una lista de strings con el resultado para cada partida, por ejemplo: `[\"ganador\", \"empate\", \"perdedor\"]`"
   ]
  },
  {
   "cell_type": "code",
   "execution_count": null,
   "metadata": {},
   "outputs": [
    {
     "data": {
      "text/plain": [
       "['ganador', 'empate', 'perdedor']"
      ]
     },
     "execution_count": 40,
     "metadata": {},
     "output_type": "execute_result"
    }
   ],
   "source": [
    "#Definimos la función llamada resultados_nombres() donde realizaremos las funciones necesarias para determinar el resultado de cada partido.\n",
    "def resultados_nombres (input):\n",
    "    #Primero creamos una lista vacía donde iremos añadiendo los resultados de cada partido.\n",
    "    resultados_partida = []\n",
    "    #Hacemos un bucle for, donde iteraremos por cada elemento del input dado y aplicamos un if, elif, else donde diremos que si el resultado del primer número de primera tupla es mayor que el segundo, el resultado es ganador, si es igual, empate y si es menor, perdedor. Y lo vamos añadiendo a la lista vacía creada.\n",
    "    for resultado in input:\n",
    "        if resultado[0]>resultado[1]:\n",
    "            resultados_partida.append('ganador')\n",
    "        elif resultado[0]==resultado[1]:\n",
    "            resultados_partida.append('empate')\n",
    "        else:\n",
    "            resultados_partida.append('perdedor')\n",
    "    return resultados_partida\n",
    "\n",
    "resultados_nombres ([(3, 1), (2, 2), (1, 4)])"
   ]
  },
  {
   "cell_type": "markdown",
   "metadata": {},
   "source": [
    "## 4. `what_is_between()`\n",
    "Crea una lista con todos los números enteros entre dos valores dados, incluyendo ambos extremos.\n",
    "\n",
    "**Input:**\n",
    "- Dos números enteros, por ejemplo: `3` y `7`\n",
    "\n",
    "**Output esperado:**\n",
    "- Una lista de enteros entre los valores dados, por ejemplo: `[3, 4, 5, 6, 7]`"
   ]
  },
  {
   "cell_type": "code",
   "execution_count": 41,
   "metadata": {},
   "outputs": [
    {
     "name": "stdout",
     "output_type": "stream",
     "text": [
      "[3, 4, 5, 6, 7]\n",
      "[0, 1, 2, 3, 4, 5, 6, 7, 8, 9, 10, 11, 12, 13, 14, 15, 16, 17, 18, 19, 20]\n"
     ]
    }
   ],
   "source": [
    "numero1 = 3\n",
    "numero2 = 7\n",
    "\n",
    "#Creamos una función llamada what_is_between().\n",
    "def what_is_between(numero1, numero2):\n",
    "    #Hacemos un bucle for y utilizamos la función range, para poder generar todos los números enteros entre los dos valores dados. para ello definimos el rango en (numero 1, numero 2 +1 y para que lo vaya mostrando de uno en uno)\n",
    "    for i in range(numero1, numero2+1, 1):\n",
    "        None\n",
    "        #Convertimos el resulltado en lista para que nos printee una lista con todos los números entre los dos dados.\n",
    "    return list(range(numero1, numero2+1))\n",
    "\n",
    "print(what_is_between(numero1, numero2))\n",
    "print(what_is_between(0,20))\n",
    "\n"
   ]
  },
  {
   "cell_type": "markdown",
   "metadata": {},
   "source": [
    "## 5. `es_mayus()`\n",
    "Dado un string, verifica si todas sus letras están en mayúsculas. Ignora los espacios para que no afecten el resultado.\n",
    "\n",
    "**Input:**\n",
    "- Un string, por ejemplo: `\"HOLA MUNDO\"`\n",
    "\n",
    "**Output esperado:**\n",
    "- `True` si todas las letras están en mayúsculas, `False` en caso contrario."
   ]
  },
  {
   "cell_type": "code",
   "execution_count": 44,
   "metadata": {},
   "outputs": [
    {
     "name": "stdout",
     "output_type": "stream",
     "text": [
      "True\n",
      "False\n",
      "True\n"
     ]
    }
   ],
   "source": [
    "frase = \"HOLA MUNDO\"\n",
    "\n",
    "#Definimos la función string_mayusculas()\n",
    "def string_mayusculas(frase):\n",
    "#Utilizamos un return para que nos devuelva true o false en función de si la frase dada está escrita toda en mayúsculas o no. Para ello utilizamos la función isupper().\n",
    "    return frase.isupper()\n",
    "\n",
    "print(string_mayusculas(frase))\n",
    "print(string_mayusculas(\"hOla\"))\n",
    "print(string_mayusculas(\"HOLA\"))\n"
   ]
  },
  {
   "cell_type": "markdown",
   "metadata": {},
   "source": [
    "## 6. `cuanta_comida_en_mochila()`\n",
    "Dadas dos listas: una llamada `comida` con los alimentos que quieres comprobar y otra llamada `nevera` con los alimentos que tienes, cuenta cuántos de los alimentos de `comida` se encuentran en `nevera`.\n",
    "\n",
    "**Input:**\n",
    "- Dos listas de strings, por ejemplo: `[\"manzanas\", \"leche\", \"pan\"]` y `[\"pan\", \"queso\", \"leche\"]`\n",
    "\n",
    "**Output esperado:**\n",
    "- Un número entero que representa cuántos elementos de `comida` están en `nevera`, por ejemplo: `2`"
   ]
  },
  {
   "cell_type": "code",
   "execution_count": 45,
   "metadata": {},
   "outputs": [
    {
     "data": {
      "text/plain": [
       "2"
      ]
     },
     "execution_count": 45,
     "metadata": {},
     "output_type": "execute_result"
    }
   ],
   "source": [
    "comida = [\"manzanas\", \"leche\", \"pan\"]\n",
    "nevera = [\"pan\", \"queso\", \"leche\"]\n",
    "\n",
    "#Definimos la función cuanta_comida_en_nevera()\n",
    "def cuanta_comida_en_nevera(comida,nevera):\n",
    "    #Creamos un contador a 0 donde iremos añadiendo la cantidad de comida que hay en la nevera.\n",
    "    contador = 0\n",
    "    #Hacemos un bucle for donde iteraremos cada elemento de la lista comida.\n",
    "    for i in comida:\n",
    "        #A través de un if, iteraremos por los elementos que hay en comida, para saber si están en nevera y, en el caso de estar, le diremos que sume 1 al contador.\n",
    "        if i in nevera:\n",
    "            contador += 1\n",
    "    return contador\n",
    "\n",
    "cuanta_comida_en_nevera(comida,nevera)"
   ]
  },
  {
   "cell_type": "markdown",
   "metadata": {},
   "source": [
    "## 7. `añadir_apellido()`\n",
    "Dado un diccionario que representa a una persona con claves como \"nombre\" y \"edad\", añade una nueva clave llamada \"apellido\" con un valor proporcionado.\n",
    "\n",
    "**Input:**\n",
    "- Un diccionario, por ejemplo: `{\"nombre\": \"Juan\", \"edad\": 30}`\n",
    "- Un string con el apellido, por ejemplo: `\"García\"`\n",
    "\n",
    "**Output esperado:**\n",
    "- El diccionario actualizado, por ejemplo: `{\"nombre\": \"Juan\", \"edad\": 30, \"apellido\": \"García\"}`"
   ]
  },
  {
   "cell_type": "code",
   "execution_count": null,
   "metadata": {},
   "outputs": [
    {
     "name": "stdout",
     "output_type": "stream",
     "text": [
      "{'nombre': 'Juan', 'edad': 30, 'apellido': 'García'}\n"
     ]
    }
   ],
   "source": [
    "nombre_edad = {\"nombre\": \"Juan\", \"edad\": 30}\n",
    "apellido = \"García\"\n",
    "\n",
    "#Para añadir una clave a un diccionario utilizamos [] donde añadiremos el nuevo valor y le diremos que es = al valor que queramos, en este caso a la variable apellido.\n",
    "nombre_edad[\"apellido\"] = apellido\n",
    "\n",
    "print(nombre_edad)"
   ]
  },
  {
   "cell_type": "markdown",
   "metadata": {},
   "source": [
    "## 8. `corregir_nombre_socio()`\n",
    "Dado un diccionario con un nombre incorrecto (por ejemplo, letras mezcladas o en minúsculas), revisa y corrige cada letra del nombre basándote en una versión de referencia correcta. La función debería trabajar para un solo diccionario y luego reutilizarse para corregir una lista de diccionarios de nombres.\n",
    "\n",
    "**Input:**\n",
    "- Un diccionario, por ejemplo: `{\"nombre\": \"jUn\", \"edad\": 40}`\n",
    "- Un string con el nombre correcto, por ejemplo: `\"Juan\"`\n",
    "\n",
    "**Output esperado:**\n",
    "- El diccionario con el nombre corregido, por ejemplo: `{\"nombre\": \"Juan\", \"edad\": 40}`"
   ]
  },
  {
   "cell_type": "code",
   "execution_count": null,
   "metadata": {},
   "outputs": [
    {
     "data": {
      "text/plain": [
       "{'nombre': 'Juan', 'edad': 40}"
      ]
     },
     "execution_count": 6,
     "metadata": {},
     "output_type": "execute_result"
    }
   ],
   "source": [
    "diccionario = {\"nombre\": \"jUn\", \"edad\": 40}\n",
    "\n",
    "#Definimos una función con el nombre corregir_nombre_socio()\n",
    "def corregir_nombre_socio(diccionario):\n",
    "    #Definimos el nombre correcto que queremos corregir, en este caso \"Juan\" y hacemos un if donde la key nombre tiene que ser igual a nombre_correcto para que corrija todos los nombres Juan que estén mal escritos.\n",
    "    nombre_correcto = \"Juan\"\n",
    "    if \"nombre\" in diccionario:\n",
    "        diccionario[\"nombre\"] = nombre_correcto\n",
    "    return diccionario\n",
    "\n",
    "corregir_nombre_socio(diccionario)"
   ]
  },
  {
   "cell_type": "markdown",
   "metadata": {},
   "source": [
    "## 9. `crear_diccionario_notas()`\n",
    "Crea un diccionario que almacene nombres de estudiantes como claves y sus notas como valores. Puedes usar `zip()` para combinar dos listas: una de nombres y otra de notas.\n",
    "\n",
    "**Input:**\n",
    "- Dos listas, una con nombres de estudiantes (por ejemplo: `[\"Ana\", \"Luis\", \"Maria\"]`) y otra con sus notas (por ejemplo: `[85, 90, 78]`).\n",
    "\n",
    "**Output esperado:**\n",
    "- Un diccionario donde cada nombre está asociado a su nota, por ejemplo: `{\"Ana\": 85, \"Luis\": 90, \"Maria\": 78}`"
   ]
  },
  {
   "cell_type": "code",
   "execution_count": null,
   "metadata": {},
   "outputs": [
    {
     "name": "stdout",
     "output_type": "stream",
     "text": [
      "{'Ana': 85, 'Luis': 90, 'Maria': 78}\n"
     ]
    }
   ],
   "source": [
    "nombre = [\"Ana\", \"Luis\", \"Maria\"]\n",
    "notas = [85, 90, 78]\n",
    "\n",
    "#Utilizamos la función zip, para mezclar las dos listas dadas, además, ese zip lo convertimos en dicciontario con la función dict() para que nos dé un diccionario como resultado.\n",
    "dict_notas = dict(zip(nombre, notas))\n",
    "\n",
    "print(dict_notas)"
   ]
  },
  {
   "cell_type": "markdown",
   "metadata": {},
   "source": [
    "## 10. `crear_diccionario_notas_tupla()`\n",
    "Similar al ejercicio anterior, pero aquí la información de los estudiantes y sus notas viene en una lista de tuplas. Cada tupla contiene el nombre y la nota de un estudiante.\n",
    "\n",
    "**Input:**\n",
    "- Una lista de tuplas, por ejemplo: `[(\"Ana\", 85), (\"Luis\", 90), (\"Maria\", 78)]`\n",
    "\n",
    "**Output esperado:**\n",
    "- Un diccionario donde cada nombre está asociado a su nota, por ejemplo: `{\"Ana\": 85, \"Luis\": 90, \"Maria\": 78}`\n"
   ]
  },
  {
   "cell_type": "code",
   "execution_count": null,
   "metadata": {},
   "outputs": [
    {
     "name": "stdout",
     "output_type": "stream",
     "text": [
      "{'Ana': 85, 'Luis': 90, 'Maria': 78}\n",
      "<class 'dict'>\n"
     ]
    }
   ],
   "source": [
    "lista_tuplas = [(\"Ana\", 85), (\"Luis\", 90), (\"Maria\", 78)]\n",
    "\n",
    "#Creamos un diccionario a partir de la lista_tuplas dada utilizando la función dict()\n",
    "dict_lista_tuplas = dict(lista_tuplas)\n",
    "\n",
    "print(dict_lista_tuplas)\n",
    "\n",
    "#Confirmamos que lo que hemos creado es un diccionario con la función type()\n",
    "print(type(dict_lista_tuplas))"
   ]
  },
  {
   "cell_type": "markdown",
   "metadata": {},
   "source": []
  }
 ],
 "metadata": {
  "kernelspec": {
   "display_name": "Python 3",
   "language": "python",
   "name": "python3"
  },
  "language_info": {
   "codemirror_mode": {
    "name": "ipython",
    "version": 3
   },
   "file_extension": ".py",
   "mimetype": "text/x-python",
   "name": "python",
   "nbconvert_exporter": "python",
   "pygments_lexer": "ipython3",
   "version": "3.9.6"
  }
 },
 "nbformat": 4,
 "nbformat_minor": 2
}
